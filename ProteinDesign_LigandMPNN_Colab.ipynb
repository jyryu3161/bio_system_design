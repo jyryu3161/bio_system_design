{
  "cells": [
    {
      "cell_type": "markdown",
      "metadata": {
        "id": "view-in-github",
        "colab_type": "text"
      },
      "source": [
        "<a href=\"https://colab.research.google.com/github/jyryu3161/bio_system_design/blob/main/ProteinDesign_LigandMPNN_Colab.ipynb\" target=\"_parent\"><img src=\"https://colab.research.google.com/assets/colab-badge.svg\" alt=\"Open In Colab\"/></a>"
      ]
    },
    {
      "cell_type": "markdown",
      "metadata": {
        "id": "oSllcklh2aJs"
      },
      "source": [
        "# **LigandMPNN - Colab**\n",
        "\n",
        "Atomic context-conditioned protein sequence design using LigandMPNN - [Paper](https://www.biorxiv.org/content/10.1101/2023.12.22.573103v1)\n",
        "\n",
        "This Colab notebook provides inference code for [LigandMPNN](https://github.com/dauparas/LigandMPNN) & [ProteinMPNN](https://github.com/dauparas/ProteinMPNN) models. The code and model parameters are available under the MIT license.\n",
        "\n",
        "This Colab Notebook covers all 33-examples of the original LigandMPNN discussed by Justus Dauparas at - [**Examples**](https://github.com/dauparas/LigandMPNN#:~:text=0.20A%20Gaussian%20noise-,Examples,-1%20default)\n",
        "\n",
        "\n",
        "\n",
        "# **1. How to run the Examples from github LigandMPNN repo**\n",
        "```\n",
        "You can run all 33-examples, using the original inputs PDBs after getting LigandMPNN models and dependecies installed. The input PDBs files will be downloaded after installation.\n",
        "\n",
        "*   Head to any cell and simply run using play button  \n",
        "*   Check/remember the file name from the --out_folder in the cell section\n",
        "*   Now from the left side of this notebook, browse to LigandMPNN folder---> ouputs folder, check the file name, right click and download it.\n",
        "*   You can set name to anything that you like at --out_folder \"./outputs/default\" option. But It is recommended and let the input and outputs remain original.\n",
        "```\n",
        "\n",
        "#**2. How to Run LigandMPNN using your PDB files  as input**\n",
        "\n",
        "First run the **Get LigandMPNN models and install depencies -step**\n",
        "\n",
        "I assume you have a pdb file 7KR0\n",
        "\n",
        "1.   Now Upload **7KR0.pdb** to the inputs folder of this notebook\n",
        "2.   Fom the left side of this notebook, browse to LigandMPNN folder ---> inputs folder, then upload and click refresh to check its in there.\n",
        "\n",
        "Now forexample I want to run **Example 1 default**\n",
        "3.   So in the cell, --pdb_path \"./inputs/**1BC8.pdb**\", replace the 1BC8.pdb with **7KR0.pdb** that you uploaded\n",
        "4.   Also in the --out_folder \"./outputs/**default**\", replace the default folder name to anything that you like \"./outputs/**results**\"\n",
        "5.   Now run the cell using the play button\n",
        "6.   Download your file/folder from leftside of this notebook, browse to LigandMPNN folder---> then outputs folder and check the name **results** and download.\n",
        "\n",
        "#**Here's a simple** [Tutorial](https://youtu.be/LFsxLVqPQho?feature=shared) and also available on my profile [X](https://x.com/CryoKhan/status/1750595099464233416?s=20)\n",
        "\n",
        "# **Important!**\n",
        "**It is very important to set the python script according to your needs in any of the example that you're interested.**\n",
        "\n",
        "To get most out of the script, first run/check the last cell outputs description. There are so many options from changing models to fix residues to chains to design.\n",
        "\n",
        "**This is the script where you can change anything according to your needs**\n",
        "\n",
        "!python run.py\n",
        "\n",
        "\n",
        "**Forexample;**\n",
        "From the outputs of the last cell, which shows the script usage options, you can add as many options as you need. One can change the model by simply adding the option like;\n",
        "\n",
        "!python run.py \\\n",
        "        **--model_type \"ligand_mpnn\"** \\\n",
        "\n",
        "There are so many option, please check the last cell script usage options.\n",
        "\n",
        "\n",
        "#**What works!**\n",
        "- All the original [**Examples**](https://github.com/dauparas/LigandMPNN#:~:text=0.20A%20Gaussian%20noise-,Examples,-1%20default) from github LigandMPNN repo.\n",
        "- Works on any PDB file, upload it and set the python script according to your need.\n",
        "\n",
        "This Colab is just for demonstration purpose I recommend using the original installations of LigandMPNN.\n",
        "\n",
        "If anyone interested to improve, download, change etc please go ahead and this is all yours.\n",
        "\n",
        "Connect with me: [LinkedIn](https://www.linkedin.com/in/samee-ullah-structural-biologist/)"
      ]
    },
    {
      "cell_type": "markdown",
      "metadata": {
        "id": "Ek-gOtMNvJxW"
      },
      "source": [
        "**Get LigandMPNN models and install dependencies, wait for 2-5 minutes to finish**\n",
        "\n",
        "Please don't worry about the warnings"
      ]
    },
    {
      "cell_type": "code",
      "execution_count": null,
      "metadata": {
        "id": "iu8gaVdklK8L"
      },
      "outputs": [],
      "source": [
        "!git clone https://github.com/ullahsamee/LigandMPNN.git\n",
        "%cd LigandMPNN\n",
        "!bash get_model_params.sh \"./model_params\"\n",
        "\n",
        "# Install Miniconda\n",
        "!wget https://repo.anaconda.com/miniconda/Miniconda3-py311_23.11.0-2-Linux-x86_64.sh\n",
        "!chmod +x Miniconda3-py311_23.11.0-2-Linux-x86_64.sh\n",
        "!bash ./Miniconda3-py311_23.11.0-2-Linux-x86_64.sh -b -f -p /usr/local\n",
        "\n",
        "# Update PATH\n",
        "import sys\n",
        "sys.path.append('/usr/local/lib/python3.11/site-packages/')\n",
        "\n",
        "# Install packages\n",
        "!conda create -n ligandmpnn_env python=3.11 -y\n",
        "!source activate ligandmpnn_env\n",
        "!conda activate ligandmpnn_env\n",
        "!pip install torch\n",
        "!pip install prody==2.4.1\n",
        "!pip install pyparsing==3.1.1"
      ]
    },
    {
      "cell_type": "markdown",
      "metadata": {
        "id": "c5HUPoKwuTGs"
      },
      "source": [
        "**Examples:**\n",
        "\n",
        "**1 default**\n",
        "\n",
        "Default settings will run ProteinMPNN."
      ]
    },
    {
      "cell_type": "code",
      "execution_count": null,
      "metadata": {
        "id": "1-EEWNfcuRP0"
      },
      "outputs": [],
      "source": [
        "%cd /content/LigandMPNN\n",
        "!python run.py \\\n",
        "        --seed 111 \\\n",
        "        --pdb_path \"./inputs/1BC8.pdb\" \\\n",
        "        --out_folder \"./outputs/default\""
      ]
    },
    {
      "cell_type": "markdown",
      "metadata": {
        "id": "3GKPC86D3qAy"
      },
      "source": [
        "**2 --temperature**\n",
        "\n",
        "--temperature 0.05 Change sampling temperature (higher temperature gives more sequence diversity).\n"
      ]
    },
    {
      "cell_type": "code",
      "execution_count": null,
      "metadata": {
        "id": "3seNXzfM3lMW"
      },
      "outputs": [],
      "source": [
        "!python run.py \\\n",
        "        --seed 111 \\\n",
        "        --pdb_path \"./inputs/1BC8.pdb\" \\\n",
        "        --temperature 0.05 \\\n",
        "        --out_folder \"./outputs/temperature\""
      ]
    },
    {
      "cell_type": "markdown",
      "metadata": {
        "id": "k8kokLBS4Fgm"
      },
      "source": [
        "**3 --seed**\n",
        "\n",
        "--seed Not selecting a seed will run with a random seed. Running this multiple times will give different results."
      ]
    },
    {
      "cell_type": "code",
      "execution_count": null,
      "metadata": {
        "colab": {
          "background_save": true
        },
        "id": "Po8Whi9z4B-7"
      },
      "outputs": [],
      "source": [
        "!python run.py \\\n",
        "        --pdb_path \"./inputs/1BC8.pdb\" \\\n",
        "        --out_folder \"./outputs/random_seed\""
      ]
    },
    {
      "cell_type": "markdown",
      "metadata": {
        "id": "OQ7bYo-G4QlV"
      },
      "source": [
        "**4 --verbose**\n",
        "\n",
        "--verbose 0 Do not print any statements.\n",
        "\n"
      ]
    },
    {
      "cell_type": "code",
      "execution_count": null,
      "metadata": {
        "colab": {
          "background_save": true
        },
        "id": "2ERfsbj04MmT"
      },
      "outputs": [],
      "source": [
        "!python run.py \\\n",
        "        --seed 111 \\\n",
        "        --verbose 0 \\\n",
        "        --pdb_path \"./inputs/1BC8.pdb\" \\\n",
        "        --out_folder \"./outputs/verbose\""
      ]
    },
    {
      "cell_type": "markdown",
      "metadata": {
        "id": "5fjaYwcd4g7v"
      },
      "source": [
        "**5 --save_stats**\n",
        "\n",
        "--save_stats 1 Save sequence design statistics."
      ]
    },
    {
      "cell_type": "code",
      "execution_count": null,
      "metadata": {
        "colab": {
          "background_save": true
        },
        "id": "8qMd2-zL4cFG"
      },
      "outputs": [],
      "source": [
        "#['generated_sequences', 'sampling_probs', 'log_probs', 'decoding_order', 'native_sequence', 'mask', 'chain_mask', 'seed', 'temperature']\n",
        "!python run.py \\\n",
        "        --seed 111 \\\n",
        "        --pdb_path \"./inputs/1BC8.pdb\" \\\n",
        "        --out_folder \"./outputs/save_stats\" \\\n",
        "        --save_stats 1"
      ]
    },
    {
      "cell_type": "markdown",
      "metadata": {
        "id": "93DMih3s4ryk"
      },
      "source": [
        "**6 --fixed_residues**\n",
        "\n",
        "--fixed_residues Fixing specific amino acids. This example fixes the first 10 residues in chain C and adds global bias towards A (alanine). The output should have all alanines except the first 10 residues should be the same as in the input sequence since those are fixed."
      ]
    },
    {
      "cell_type": "code",
      "execution_count": null,
      "metadata": {
        "colab": {
          "background_save": true
        },
        "id": "sbTyXueW4phF"
      },
      "outputs": [],
      "source": [
        "!python run.py \\\n",
        "        --seed 111 \\\n",
        "        --pdb_path \"./inputs/1BC8.pdb\" \\\n",
        "        --out_folder \"./outputs/fix_residues\" \\\n",
        "        --fixed_residues \"C1 C2 C3 C4 C5 C6 C7 C8 C9 C10\" \\\n",
        "        --bias_AA \"E:10.0\""
      ]
    },
    {
      "cell_type": "markdown",
      "metadata": {
        "id": "uIdY278A41f_"
      },
      "source": [
        "**7 --redesigned_residues**\n",
        "\n",
        "--redesigned_residues Specifying which residues need to be designed. This example redesigns the first 10 residues while fixing everything else.\n",
        "\n"
      ]
    },
    {
      "cell_type": "code",
      "execution_count": null,
      "metadata": {
        "colab": {
          "background_save": true
        },
        "id": "s_8BRvbI4yIv"
      },
      "outputs": [],
      "source": [
        "!python run.py \\\n",
        "        --seed 111 \\\n",
        "        --pdb_path \"./inputs/1BC8.pdb\" \\\n",
        "        --out_folder \"./outputs/redesign_residues\" \\\n",
        "        --redesigned_residues \"C1 C2 C3 C4 C5 C6 C7 C8 C9 C10\" \\\n",
        "        --bias_AA \"A:10.0\""
      ]
    },
    {
      "cell_type": "markdown",
      "metadata": {
        "id": "rSq-BCMr5OuI"
      },
      "source": [
        "**8 --number_of_batches**\n",
        "\n",
        "Design 15 sequences; with batch size 3 (can be 1 when using CPUs) and the number of batches 5."
      ]
    },
    {
      "cell_type": "code",
      "execution_count": null,
      "metadata": {
        "colab": {
          "background_save": true
        },
        "id": "627Fe8X65HBX"
      },
      "outputs": [],
      "source": [
        "!python run.py \\\n",
        "        --seed 111 \\\n",
        "        --pdb_path \"./inputs/1BC8.pdb\" \\\n",
        "        --out_folder \"./outputs/batch_size\" \\\n",
        "        --batch_size 3 \\\n",
        "        --number_of_batches 5"
      ]
    },
    {
      "cell_type": "markdown",
      "metadata": {
        "id": "HqwYIXk35XJu"
      },
      "source": [
        "**9 --bias_AA**\n",
        "\n",
        "Global amino acid bias. In this example, output sequences are biased towards W, P, C and away from A."
      ]
    },
    {
      "cell_type": "code",
      "execution_count": null,
      "metadata": {
        "colab": {
          "background_save": true
        },
        "id": "yUJKUsag5HnI"
      },
      "outputs": [],
      "source": [
        "!python run.py \\\n",
        "        --seed 111 \\\n",
        "        --pdb_path \"./inputs/1BC8.pdb\" \\\n",
        "        --bias_AA \"W:3.0,P:3.0,C:3.0,A:-3.0\" \\\n",
        "        --out_folder \"./outputs/global_bias\""
      ]
    },
    {
      "cell_type": "markdown",
      "metadata": {
        "id": "kZQbPGb95or2"
      },
      "source": [
        "**10 --bias_AA_per_residue**\n",
        "\n",
        "Specify per residue amino acid bias, e.g. make residues C1, C3, C5, and C7 to be prolines."
      ]
    },
    {
      "cell_type": "code",
      "execution_count": null,
      "metadata": {
        "colab": {
          "background_save": true
        },
        "id": "77jKxOgl5Hz-"
      },
      "outputs": [],
      "source": [
        "# {\n",
        "# \"C1\": {\"G\": -0.3, \"C\": -2.0, \"P\": 10.8},\n",
        "# \"C3\": {\"P\": 10.0},\n",
        "# \"C5\": {\"G\": -1.3, \"P\": 10.0},\n",
        "# \"C7\": {\"G\": -1.3, \"P\": 10.0}\n",
        "# }\n",
        "!python run.py \\\n",
        "        --seed 111 \\\n",
        "        --pdb_path \"./inputs/1BC8.pdb\" \\\n",
        "        --bias_AA_per_residue \"./inputs/bias_AA_per_residue.json\" \\\n",
        "        --out_folder \"./outputs/per_residue_bias\""
      ]
    },
    {
      "cell_type": "markdown",
      "metadata": {
        "id": "FkPCyQ_V6Aih"
      },
      "source": [
        "**11 --omit_AA**\n",
        "\n",
        "Global amino acid restrictions. This is equivalent to using --bias_AA and setting bias to be a large negative number. The output should be just made of E, K, A.\n",
        "\n"
      ]
    },
    {
      "cell_type": "code",
      "execution_count": null,
      "metadata": {
        "colab": {
          "background_save": true
        },
        "id": "aGwonRd15IBn"
      },
      "outputs": [],
      "source": [
        "!python run.py \\\n",
        "        --seed 111 \\\n",
        "        --pdb_path \"./inputs/1BC8.pdb\" \\\n",
        "        --omit_AA \"CDFGHILMNPQRSTVWY\" \\\n",
        "        --out_folder \"./outputs/global_omit\""
      ]
    },
    {
      "cell_type": "markdown",
      "metadata": {
        "id": "grRpBn5k6Mnt"
      },
      "source": [
        "**12 --omit_AA_per_residue**\n",
        "\n",
        "Per residue amino acid restrictions."
      ]
    },
    {
      "cell_type": "code",
      "execution_count": null,
      "metadata": {
        "colab": {
          "background_save": true
        },
        "id": "-_Qw8CdD5IGl"
      },
      "outputs": [],
      "source": [
        "# {\n",
        "# \"C1\": \"ACDEFGHIKLMNPQRSTVW\",\n",
        "# \"C3\": \"ACDEFGHIKLMNPQRSTVW\",\n",
        "# \"C5\": \"ACDEFGHIKLMNPQRSTVW\",\n",
        "# \"C7\": \"ACDEFGHIKLMNPQRSTVW\"\n",
        "# }\n",
        "!python run.py \\\n",
        "        --seed 111 \\\n",
        "        --pdb_path \"./inputs/1BC8.pdb\" \\\n",
        "        --omit_AA_per_residue \"./inputs/omit_AA_per_residue.json\" \\\n",
        "        --out_folder \"./outputs/per_residue_omit\""
      ]
    },
    {
      "cell_type": "markdown",
      "metadata": {
        "id": "NQvv5Djp6gTJ"
      },
      "source": [
        "**13 --symmetry_weights**\n",
        "\n",
        "Designing sequences with symmetry, e.g. homooligomer/2-state proteins, etc. In this example make C1=C2=C3, also C4=C5, and C6=C7."
      ]
    },
    {
      "cell_type": "code",
      "execution_count": null,
      "metadata": {
        "colab": {
          "background_save": true
        },
        "id": "MIuSX3qT5IM4"
      },
      "outputs": [],
      "source": [
        "#total_logits += symmetry_weights[t]*logits\n",
        "#probs = torch.nn.functional.softmax((total_logits+bias_t) / temperature, dim=-1)\n",
        "#total_logits_123 = 0.33*logits_1+0.33*logits_2+0.33*logits_3\n",
        "#output should be ***ooxx\n",
        "!python run.py \\\n",
        "        --seed 111 \\\n",
        "        --pdb_path \"./inputs/1BC8.pdb\" \\\n",
        "        --out_folder \"./outputs/symmetry\" \\\n",
        "        --symmetry_residues \"C1,C2,C3|C4,C5|C6,C7\" \\\n",
        "        --symmetry_weights \"0.33,0.33,0.33|0.5,0.5|0.5,0.5\""
      ]
    },
    {
      "cell_type": "markdown",
      "metadata": {
        "id": "wuI0k4DOA-0o"
      },
      "source": [
        "**14 --homo_oligomer**\n",
        "\n",
        "Design homooligomer sequences. This automatically sets --symmetry_residues and --symmetry_weights assuming equal weighting from all chains."
      ]
    },
    {
      "cell_type": "code",
      "execution_count": null,
      "metadata": {
        "colab": {
          "background_save": true
        },
        "id": "sSavGr_d5IWL"
      },
      "outputs": [],
      "source": [
        "!python run.py \\\n",
        "        --model_type \"ligand_mpnn\" \\\n",
        "        --seed 111 \\\n",
        "        --pdb_path \"./inputs/4GYT.pdb\" \\\n",
        "        --out_folder \"./outputs/homooligomer\" \\\n",
        "        --homo_oligomer 1 \\\n",
        "        --number_of_batches 2"
      ]
    },
    {
      "cell_type": "markdown",
      "metadata": {
        "id": "LBm4keaSBHDE"
      },
      "source": [
        "**15 --file_ending**\n",
        "\n",
        "Outputs will have a specified ending; e.g. 1BC8_xyz.fa instead of 1BC8.fa"
      ]
    },
    {
      "cell_type": "code",
      "execution_count": null,
      "metadata": {
        "colab": {
          "background_save": true
        },
        "id": "REHQAhH26lhJ"
      },
      "outputs": [],
      "source": [
        "!python run.py \\\n",
        "        --seed 111 \\\n",
        "        --pdb_path \"./inputs/1BC8.pdb\" \\\n",
        "        --out_folder \"./outputs/file_ending\" \\\n",
        "        --file_ending \"_xyz\""
      ]
    },
    {
      "cell_type": "markdown",
      "metadata": {
        "id": "9DGZxphbBWEY"
      },
      "source": [
        "**16 --zero_indexed**\n",
        "\n",
        "Zero indexed names in /backbones/1BC8_0.pdb, 1BC8_1.pdb, 1BC8_2.pdb etc"
      ]
    },
    {
      "cell_type": "code",
      "execution_count": null,
      "metadata": {
        "colab": {
          "background_save": true
        },
        "id": "yOkwbeQy6l3L"
      },
      "outputs": [],
      "source": [
        "!python run.py \\\n",
        "        --seed 111 \\\n",
        "        --pdb_path \"./inputs/1BC8.pdb\" \\\n",
        "        --out_folder \"./outputs/zero_indexed\" \\\n",
        "        --zero_indexed 1 \\\n",
        "        --number_of_batches 2"
      ]
    },
    {
      "cell_type": "markdown",
      "metadata": {
        "id": "UeL7s6eABj1t"
      },
      "source": [
        "**17 --chains_to_design**\n",
        "\n",
        "Specify which chains (e.g. \"ABC\") need to be redesigned, other chains will be kept fixed. Outputs in seqs/backbones will still have atoms/sequences for the whole input PDB."
      ]
    },
    {
      "cell_type": "code",
      "execution_count": null,
      "metadata": {
        "colab": {
          "background_save": true
        },
        "id": "IN2RBRrZ6l5x"
      },
      "outputs": [],
      "source": [
        "!python run.py \\\n",
        "        --model_type \"ligand_mpnn\" \\\n",
        "        --seed 111 \\\n",
        "        --pdb_path \"./inputs/4GYT.pdb\" \\\n",
        "        --out_folder \"./outputs/chains_to_design\" \\\n",
        "        --chains_to_design \"B\""
      ]
    },
    {
      "cell_type": "markdown",
      "metadata": {
        "id": "j6P1rQZTBopw"
      },
      "source": [
        "**18 --parse_these_chains_only**\n",
        "\n",
        "Parse and design only specified chains (e.g. \"ABC\"). Outputs will have only specified chains."
      ]
    },
    {
      "cell_type": "code",
      "execution_count": null,
      "metadata": {
        "colab": {
          "background_save": true
        },
        "id": "smTzjsUb6mIp"
      },
      "outputs": [],
      "source": [
        "!python run.py \\\n",
        "        --model_type \"ligand_mpnn\" \\\n",
        "        --seed 111 \\\n",
        "        --pdb_path \"./inputs/4GYT.pdb\" \\\n",
        "        --out_folder \"./outputs/parse_these_chains_only\" \\\n",
        "        --parse_these_chains_only \"B\""
      ]
    },
    {
      "cell_type": "markdown",
      "metadata": {
        "id": "UEEGqiWIB1HC"
      },
      "source": [
        "**19 --model_type \"ligand_mpnn\"**\n",
        "\n",
        "Run LigandMPNN with default settings."
      ]
    },
    {
      "cell_type": "code",
      "execution_count": null,
      "metadata": {
        "colab": {
          "background_save": true
        },
        "id": "JXSK0TGd6mLa"
      },
      "outputs": [],
      "source": [
        "!python run.py \\\n",
        "        --model_type \"ligand_mpnn\" \\\n",
        "        --seed 111 \\\n",
        "        --pdb_path \"./inputs/1BC8.pdb\" \\\n",
        "        --out_folder \"./outputs/ligandmpnn_default\""
      ]
    },
    {
      "cell_type": "markdown",
      "metadata": {
        "id": "wfGruNh6CAfa"
      },
      "source": [
        "**20 --checkpoint_ligand_mpnn**\n",
        "\n",
        "Run LigandMPNN using 0.05A model by specifying --checkpoint_ligand_mpnn flag."
      ]
    },
    {
      "cell_type": "code",
      "execution_count": null,
      "metadata": {
        "colab": {
          "background_save": true
        },
        "id": "Xngm3rno6mOR"
      },
      "outputs": [],
      "source": [
        "!python run.py \\\n",
        "        --checkpoint_ligand_mpnn \"./model_params/ligandmpnn_v_32_005_25.pt\" \\\n",
        "        --model_type \"ligand_mpnn\" \\\n",
        "        --seed 111 \\\n",
        "        --pdb_path \"./inputs/1BC8.pdb\" \\\n",
        "        --out_folder \"./outputs/ligandmpnn_v_32_005_25\""
      ]
    },
    {
      "cell_type": "markdown",
      "metadata": {
        "id": "hV7apUZDCIva"
      },
      "source": [
        "**21 --ligand_mpnn_use_atom_context**\n",
        "\n",
        "Setting --ligand_mpnn_use_atom_context 0 will mask all ligand atoms. This can be used to assess how much ligand atoms affect AA probabilities."
      ]
    },
    {
      "cell_type": "code",
      "execution_count": null,
      "metadata": {
        "colab": {
          "background_save": true
        },
        "id": "FUxiMEwG6mRS"
      },
      "outputs": [],
      "source": [
        "!python run.py \\\n",
        "        --model_type \"ligand_mpnn\" \\\n",
        "        --seed 111 \\\n",
        "        --pdb_path \"./inputs/1BC8.pdb\" \\\n",
        "        --out_folder \"./outputs/ligandmpnn_no_context\" \\\n",
        "        --ligand_mpnn_use_atom_context 0"
      ]
    },
    {
      "cell_type": "markdown",
      "metadata": {
        "id": "mV2d_Nh2CVrb"
      },
      "source": [
        "**22 --ligand_mpnn_use_side_chain_context**\n",
        "\n",
        "Use fixed residue side chain atoms as extra ligand atoms.\n",
        "\n"
      ]
    },
    {
      "cell_type": "code",
      "execution_count": null,
      "metadata": {
        "colab": {
          "background_save": true
        },
        "id": "PXhd837D6mUJ"
      },
      "outputs": [],
      "source": [
        "!python run.py \\\n",
        "        --model_type \"ligand_mpnn\" \\\n",
        "        --seed 111 \\\n",
        "        --pdb_path \"./inputs/1BC8.pdb\" \\\n",
        "        --out_folder \"./outputs/ligandmpnn_use_side_chain_atoms\" \\\n",
        "        --ligand_mpnn_use_side_chain_context 1 \\\n",
        "        --fixed_residues \"C1 C2 C3 C4 C5 C6 C7 C8 C9 C10\""
      ]
    },
    {
      "cell_type": "markdown",
      "metadata": {
        "id": "SgPvzJaPCcxG"
      },
      "source": [
        "**23 --model_type \"soluble_mpnn\"**\n",
        "\n",
        "Run SolubleMPNN (ProteinMPNN-like model with only soluble proteins in the training dataset)."
      ]
    },
    {
      "cell_type": "code",
      "execution_count": null,
      "metadata": {
        "colab": {
          "background_save": true
        },
        "id": "kYa0kCuc6mW6"
      },
      "outputs": [],
      "source": [
        "!python run.py \\\n",
        "        --model_type \"soluble_mpnn\" \\\n",
        "        --seed 111 \\\n",
        "        --pdb_path \"./inputs/1BC8.pdb\" \\\n",
        "        --out_folder \"./outputs/soluble_mpnn_default\""
      ]
    },
    {
      "cell_type": "markdown",
      "metadata": {
        "id": "26qrjJQ-Cjj-"
      },
      "source": [
        "**24 --model_type \"global_label_membrane_mpnn\"**\n",
        "\n",
        "Run global label membrane MPNN (trained with extra input - binary label soluble vs not) --global_transmembrane_label #1 - membrane, 0 - soluble."
      ]
    },
    {
      "cell_type": "code",
      "execution_count": null,
      "metadata": {
        "colab": {
          "background_save": true
        },
        "id": "DjK3at9Q6mZp"
      },
      "outputs": [],
      "source": [
        "!python run.py \\\n",
        "        --model_type \"global_label_membrane_mpnn\" \\\n",
        "        --seed 111 \\\n",
        "        --pdb_path \"./inputs/1BC8.pdb\" \\\n",
        "        --out_folder \"./outputs/global_label_membrane_mpnn_0\" \\\n",
        "        --global_transmembrane_label 0"
      ]
    },
    {
      "cell_type": "markdown",
      "metadata": {
        "id": "Q8eubXN2CrlL"
      },
      "source": [
        "**25 --model_type \"per_residue_label_membrane_mpnn\"**\n",
        "\n",
        "Run per residue label membrane MPNN (trained with extra input per residue specifying buried (hydrophobic), interface (polar), or other type residues; 3 classes)."
      ]
    },
    {
      "cell_type": "code",
      "execution_count": null,
      "metadata": {
        "colab": {
          "background_save": true
        },
        "id": "ubijN8O36mcY"
      },
      "outputs": [],
      "source": [
        "!python run.py \\\n",
        "        --model_type \"per_residue_label_membrane_mpnn\" \\\n",
        "        --seed 111 \\\n",
        "        --pdb_path \"./inputs/1BC8.pdb\" \\\n",
        "        --out_folder \"./outputs/per_residue_label_membrane_mpnn_default\" \\\n",
        "        --transmembrane_buried \"C1 C2 C3 C11\" \\\n",
        "        --transmembrane_interface \"C4 C5 C6 C22\""
      ]
    },
    {
      "cell_type": "markdown",
      "metadata": {
        "id": "IfMb8VZlC0LM"
      },
      "source": [
        "**26 --fasta_seq_separation**\n",
        "\n",
        "Choose a symbol to put between different chains in fasta output format. It's recommended to PDB output format to deal with residue jumps and multiple chain parsing."
      ]
    },
    {
      "cell_type": "code",
      "execution_count": null,
      "metadata": {
        "colab": {
          "background_save": true
        },
        "id": "uL-ZTG0a6mfB"
      },
      "outputs": [],
      "source": [
        "!python run.py \\\n",
        "        --pdb_path \"./inputs/1BC8.pdb\" \\\n",
        "        --out_folder \"./outputs/fasta_seq_separation\" \\\n",
        "        --fasta_seq_separation \":\""
      ]
    },
    {
      "cell_type": "markdown",
      "metadata": {
        "id": "A6FFlINeC7m7"
      },
      "source": [
        "**27 --pdb_path_multi**\n",
        "\n",
        "Specify multiple PDB input paths. This is more efficient since the model needs to be loaded from the checkpoint once."
      ]
    },
    {
      "cell_type": "code",
      "execution_count": null,
      "metadata": {
        "colab": {
          "background_save": true
        },
        "id": "yJi0ex9V6mh5"
      },
      "outputs": [],
      "source": [
        "#{\n",
        "#\"./inputs/1BC8.pdb\": \"\",\n",
        "#\"./inputs/4GYT.pdb\": \"\"\n",
        "#}\n",
        "!python run.py \\\n",
        "        --pdb_path_multi \"./inputs/pdb_ids.json\" \\\n",
        "        --out_folder \"./outputs/pdb_path_multi\" \\\n",
        "        --seed 111"
      ]
    },
    {
      "cell_type": "markdown",
      "metadata": {
        "id": "GH78OZSADEm_"
      },
      "source": [
        "**28 --fixed_residues_multi**\n",
        "\n",
        "Specify fixed residues when using --pdb_path_multi flag."
      ]
    },
    {
      "cell_type": "code",
      "execution_count": null,
      "metadata": {
        "colab": {
          "background_save": true
        },
        "id": "h66XKmHm6mkx"
      },
      "outputs": [],
      "source": [
        "#{\n",
        "#\"./inputs/1BC8.pdb\": \"C1 C2 C3 C4 C5 C10 C22\",\n",
        "#\"./inputs/4GYT.pdb\": \"A7 A8 A9 A10 A11 A12 A13 B38\"\n",
        "#}\n",
        "!python run.py \\\n",
        "        --pdb_path_multi \"./inputs/pdb_ids.json\" \\\n",
        "        --fixed_residues_multi \"./inputs/fix_residues_multi.json\" \\\n",
        "        --out_folder \"./outputs/fixed_residues_multi\" \\\n",
        "        --seed 111"
      ]
    },
    {
      "cell_type": "markdown",
      "metadata": {
        "id": "sCiPxeA5DLrO"
      },
      "source": [
        "**29 --redesigned_residues_multi**\n",
        "\n",
        "Specify which residues need to be redesigned when using --pdb_path_multi flag."
      ]
    },
    {
      "cell_type": "code",
      "execution_count": null,
      "metadata": {
        "colab": {
          "background_save": true
        },
        "id": "dpRoIsPM6mnj"
      },
      "outputs": [],
      "source": [
        "#{\n",
        "#\"./inputs/1BC8.pdb\": \"C1 C2 C3 C4 C5 C10\",\n",
        "#\"./inputs/4GYT.pdb\": \"A7 A8 A9 A10 A12 A13 B38\"\n",
        "#}\n",
        "!python run.py \\\n",
        "        --pdb_path_multi \"./inputs/pdb_ids.json\" \\\n",
        "        --redesigned_residues_multi \"./inputs/redesigned_residues_multi.json\" \\\n",
        "        --out_folder \"./outputs/redesigned_residues_multi\" \\\n",
        "        --seed 111"
      ]
    },
    {
      "cell_type": "markdown",
      "metadata": {
        "id": "HusqWjbODX11"
      },
      "source": [
        "**30 --omit_AA_per_residue_multi**\n",
        "\n",
        "Specify which residues need to be omitted when using --pdb_path_multi flag."
      ]
    },
    {
      "cell_type": "code",
      "execution_count": null,
      "metadata": {
        "colab": {
          "background_save": true
        },
        "id": "9M7McqAN6mqc"
      },
      "outputs": [],
      "source": [
        "#{\n",
        "#\"./inputs/1BC8.pdb\": {\"C1\":\"ACDEFGHILMNPQRSTVWY\", \"C2\":\"ACDEFGHILMNPQRSTVWY\", \"C3\":\"ACDEFGHILMNPQRSTVWY\"},\n",
        "#\"./inputs/4GYT.pdb\": {\"A7\":\"ACDEFGHILMNPQRSTVWY\", \"A8\":\"ACDEFGHILMNPQRSTVWY\"}\n",
        "#}\n",
        "!python run.py \\\n",
        "        --pdb_path_multi \"./inputs/pdb_ids.json\" \\\n",
        "        --omit_AA_per_residue_multi \"./inputs/omit_AA_per_residue_multi.json\" \\\n",
        "        --out_folder \"./outputs/omit_AA_per_residue_multi\" \\\n",
        "        --seed 111"
      ]
    },
    {
      "cell_type": "markdown",
      "metadata": {
        "id": "CuLyAh9CDpjO"
      },
      "source": [
        "**31 --bias_AA_per_residue_multi**\n",
        "\n",
        "Specify amino acid biases per residue when using --pdb_path_multi flag.\n",
        "\n"
      ]
    },
    {
      "cell_type": "code",
      "execution_count": null,
      "metadata": {
        "colab": {
          "background_save": true
        },
        "id": "jbh--Zj16mtS"
      },
      "outputs": [],
      "source": [
        "#{\n",
        "#\"./inputs/1BC8.pdb\": {\"C1\":{\"A\":3.0, \"P\":-2.0}, \"C2\":{\"W\":10.0, \"G\":-0.43}},\n",
        "#\"./inputs/4GYT.pdb\": {\"A7\":{\"Y\":5.0, \"S\":-2.0}, \"A8\":{\"M\":3.9, \"G\":-0.43}}\n",
        "#}\n",
        "!python run.py \\\n",
        "        --pdb_path_multi \"./inputs/pdb_ids.json\" \\\n",
        "        --bias_AA_per_residue_multi \"./inputs/bias_AA_per_residue_multi.json\" \\\n",
        "        --out_folder \"./outputs/bias_AA_per_residue_multi\" \\\n",
        "        --seed 111"
      ]
    },
    {
      "cell_type": "markdown",
      "metadata": {
        "id": "xYjgLlYlDume"
      },
      "source": [
        "**32 --ligand_mpnn_cutoff_for_score**\n",
        "\n",
        "This sets the cutoff distance in angstroms to select residues that are considered to be close to ligand atoms. This flag only affects the num_ligand_res and ligand_confidence in the output fasta files."
      ]
    },
    {
      "cell_type": "code",
      "execution_count": null,
      "metadata": {
        "colab": {
          "background_save": true
        },
        "id": "fF3yZru16mwJ"
      },
      "outputs": [],
      "source": [
        "!python run.py \\\n",
        "        --model_type \"ligand_mpnn\" \\\n",
        "        --seed 111 \\\n",
        "        --pdb_path \"./inputs/1BC8.pdb\" \\\n",
        "        --ligand_mpnn_cutoff_for_score \"6.0\" \\\n",
        "        --out_folder \"./outputs/ligand_mpnn_cutoff_for_score\""
      ]
    },
    {
      "cell_type": "markdown",
      "metadata": {
        "id": "WvcNWbZXD26e"
      },
      "source": [
        "**33 specifying residues with insertion codes**\n",
        "\n",
        "You can specify residue using chain_id + residue_number + insersion_code; e.g. redesign only residue B82, B82A, B82B, B82C."
      ]
    },
    {
      "cell_type": "code",
      "execution_count": null,
      "metadata": {
        "colab": {
          "background_save": true
        },
        "id": "4w9-gobW6myq"
      },
      "outputs": [],
      "source": [
        "!python run.py \\\n",
        "        --seed 111 \\\n",
        "        --pdb_path \"./inputs/2GFB.pdb\" \\\n",
        "        --out_folder \"./outputs/insertion_code\" \\\n",
        "        --redesigned_residues \"B82 B82A B82B B82C\" \\\n",
        "        --parse_these_chains_only \"B\""
      ]
    },
    {
      "cell_type": "markdown",
      "metadata": {
        "id": "B528H0Z0aLsR"
      },
      "source": [
        "**Last - How to use LigandMPNN script more effectively**"
      ]
    },
    {
      "cell_type": "code",
      "execution_count": null,
      "metadata": {
        "colab": {
          "background_save": true
        },
        "id": "KQJ_nCSsa7Mh"
      },
      "outputs": [],
      "source": [
        "!python run.py -h"
      ]
    },
    {
      "cell_type": "markdown",
      "source": [
        "Enzyme engineering"
      ],
      "metadata": {
        "id": "wRuIv4V9CIi1"
      }
    },
    {
      "cell_type": "code",
      "source": [
        "from Bio.PDB import *\n",
        "import numpy as np\n",
        "import os\n",
        "\n",
        "def find_all_ligands_and_nearby_residues(pdb_file, distance_cutoff=5.0):\n",
        "    \"\"\"\n",
        "    CIF 파일에서 모든 리간드를 자동으로 찾고 각 리간드 주변의 아미노산 잔기를 분석\n",
        "    \"\"\"\n",
        "    # PDB 파서 초기화 (CIF 파일용)\n",
        "    parser = MMCIFParser(QUIET=True)\n",
        "    structure = parser.get_structure('protein', pdb_file)\n",
        "\n",
        "    # 표준 아미노산 잔기 목록\n",
        "    standard_residues = {\n",
        "        'ALA', 'ARG', 'ASN', 'ASP', 'CYS', 'GLN', 'GLU', 'GLY', 'HIS', 'ILE',\n",
        "        'LEU', 'LYS', 'MET', 'PHE', 'PRO', 'SER', 'THR', 'TRP', 'TYR', 'VAL'\n",
        "    }\n",
        "\n",
        "    # 일반적인 용매 분자들 (제외할 목록)\n",
        "    solvent_molecules = {'HOH', 'WAT', 'TIP', 'SOL', 'H2O'}\n",
        "\n",
        "    # 리간드 찾기\n",
        "    ligands = {}\n",
        "    protein_residues = []\n",
        "\n",
        "    for model in structure:\n",
        "        for chain in model:\n",
        "            for residue in chain:\n",
        "                resname = residue.resname.strip()\n",
        "\n",
        "                # 표준 아미노산은 단백질 잔기로 분류\n",
        "                if resname in standard_residues:\n",
        "                    protein_residues.append(residue)\n",
        "                # 용매 분자가 아니고 HET 레코드인 경우 리간드로 분류\n",
        "                elif (resname not in solvent_molecules and\n",
        "                      residue.id[0] != ' '):  # HET 레코드 식별\n",
        "                    if resname not in ligands:\n",
        "                        ligands[resname] = []\n",
        "                    ligands[resname].append(residue)\n",
        "\n",
        "    print(f\"발견된 리간드들: {list(ligands.keys())}\")\n",
        "    print(f\"총 단백질 잔기 수: {len(protein_residues)}\")\n",
        "    print(\"=\" * 50)\n",
        "\n",
        "    # 각 리간드에 대해 주변 잔기 분석\n",
        "    all_results = {}\n",
        "\n",
        "    for ligand_name, ligand_residues in ligands.items():\n",
        "        print(f\"\\n리간드: {ligand_name} (총 {len(ligand_residues)}개)\")\n",
        "\n",
        "        for i, ligand_residue in enumerate(ligand_residues):\n",
        "            print(f\"\\n{ligand_name} #{i+1} (Chain {ligand_residue.parent.id}, Residue {ligand_residue.id[1]}):\")\n",
        "\n",
        "            # 리간드 원자들 가져오기\n",
        "            ligand_atoms = list(ligand_residue.get_atoms())\n",
        "\n",
        "            # 가까운 단백질 잔기 찾기\n",
        "            nearby_residues = set()\n",
        "\n",
        "            for ligand_atom in ligand_atoms:\n",
        "                for protein_residue in protein_residues:\n",
        "                    # 잔기의 모든 원자에 대해 거리 계산\n",
        "                    for atom in protein_residue:\n",
        "                        try:\n",
        "                            distance = ligand_atom - atom\n",
        "                            if distance <= distance_cutoff:\n",
        "                                nearby_residues.add(protein_residue)\n",
        "                                break\n",
        "                        except:\n",
        "                            continue  # 좌표가 없는 원자는 건너뛰기\n",
        "\n",
        "            # 결과 출력\n",
        "            nearby_residues = sorted(list(nearby_residues),\n",
        "                                   key=lambda x: (x.parent.id, x.id[1]))\n",
        "\n",
        "            print(f\"  주변 {distance_cutoff}Å 이내 아미노산 잔기 ({len(nearby_residues)}개):\")\n",
        "            for residue in nearby_residues:\n",
        "                print(f\"  - {residue.resname} {residue.id[1]} (Chain {residue.parent.id})\")\n",
        "\n",
        "            # 간단한 형태로 출력\n",
        "            print(\"  잔기 목록:\")\n",
        "            residue_list = []\n",
        "            for residue in nearby_residues:\n",
        "                residue_list.append(f\"{residue.parent.id}{residue.id[1]}\")\n",
        "            print(\"  \" + \" \".join(residue_list))\n",
        "\n",
        "            # 결과 저장\n",
        "            ligand_key = f\"{ligand_name}_{i+1}\"\n",
        "            all_results[ligand_key] = {\n",
        "                'ligand_residue': ligand_residue,\n",
        "                'nearby_residues': nearby_residues,\n",
        "                'chain': ligand_residue.parent.id,\n",
        "                'residue_id': ligand_residue.id[1]\n",
        "            }\n",
        "\n",
        "    return all_results\n",
        "\n",
        "def analyze_specific_ligand(pdb_file, ligand_name, distance_cutoff=5.0):\n",
        "    \"\"\"\n",
        "    특정 리간드만 분석하는 함수 (기존 기능 유지)\n",
        "    \"\"\"\n",
        "    parser = MMCIFParser(QUIET=True)\n",
        "    structure = parser.get_structure('protein', pdb_file)\n",
        "\n",
        "    # 표준 아미노산 목록\n",
        "    standard_residues = {\n",
        "        'ALA', 'ARG', 'ASN', 'ASP', 'CYS', 'GLN', 'GLU', 'GLY', 'HIS', 'ILE',\n",
        "        'LEU', 'LYS', 'MET', 'PHE', 'PRO', 'SER', 'THR', 'TRP', 'TYR', 'VAL'\n",
        "    }\n",
        "\n",
        "    # 지정된 리간드 찾기\n",
        "    ligand_atoms = []\n",
        "    for model in structure:\n",
        "        for chain in model:\n",
        "            for residue in chain:\n",
        "                if residue.resname.strip() == ligand_name:\n",
        "                    ligand_atoms = list(residue.get_atoms())\n",
        "                    break\n",
        "\n",
        "    if not ligand_atoms:\n",
        "        print(f\"{ligand_name} 리간드를 찾을 수 없습니다.\")\n",
        "        return []\n",
        "\n",
        "    # 가까운 잔기 찾기\n",
        "    nearby_residues = set()\n",
        "    for ligand_atom in ligand_atoms:\n",
        "        for model in structure:\n",
        "            for chain in model:\n",
        "                for residue in chain:\n",
        "                    # 표준 아미노산만 고려\n",
        "                    if residue.resname.strip() not in standard_residues:\n",
        "                        continue\n",
        "\n",
        "                    # 잔기의 모든 원자에 대해 거리 계산\n",
        "                    for atom in residue:\n",
        "                        try:\n",
        "                            distance = ligand_atom - atom\n",
        "                            if distance <= distance_cutoff:\n",
        "                                nearby_residues.add(residue)\n",
        "                                break\n",
        "                        except:\n",
        "                            continue\n",
        "\n",
        "    # 결과 출력\n",
        "    nearby_residues = sorted(list(nearby_residues),\n",
        "                           key=lambda x: (x.parent.id, x.id[1]))\n",
        "\n",
        "    print(f\"{ligand_name} 리간드 주변 {distance_cutoff}Å 이내 잔기:\")\n",
        "    for residue in nearby_residues:\n",
        "        print(f\"- {residue.resname} {residue.id[1]} (Chain {residue.parent.id})\")\n",
        "    print('--------')\n",
        "    for residue in nearby_residues:\n",
        "        print(f\"{residue.parent.id}{residue.id[1]}\", end=\" \")\n",
        "    print()\n",
        "\n",
        "    return list(nearby_residues)\n",
        "\n",
        "def convert_cif_to_pdb(cif_file, output_pdb=None):\n",
        "    \"\"\"\n",
        "    CIF 파일을 PDB 형식으로 변환\n",
        "    \"\"\"\n",
        "    if output_pdb is None:\n",
        "        base_name = os.path.splitext(cif_file)[0]\n",
        "        output_pdb = base_name + '.pdb'\n",
        "\n",
        "    try:\n",
        "        # CIF 파일 파싱\n",
        "        parser = MMCIFParser(QUIET=True)\n",
        "        structure = parser.get_structure('protein', cif_file)\n",
        "\n",
        "        # PDB 형식으로 저장\n",
        "        io = PDBIO()\n",
        "        io.set_structure(structure)\n",
        "        io.save(output_pdb)\n",
        "\n",
        "        print(f\"성공적으로 변환됨: {cif_file} -> {output_pdb}\")\n",
        "        return output_pdb\n",
        "\n",
        "    except Exception as e:\n",
        "        print(f\"변환 중 오류 발생: {e}\")\n",
        "        return None\n",
        "\n",
        "# 사용 예시\n",
        "if __name__ == \"__main__\":\n",
        "    cif_file = '../5XH3.cif'\n",
        "\n",
        "    # 방법 1: 모든 리간드 자동 분석\n",
        "    print(\"=== 모든 리간드 자동 분석 ===\")\n",
        "    results = find_all_ligands_and_nearby_residues(cif_file, distance_cutoff=5.0)\n",
        "\n",
        "    # 사용 예시\n",
        "    pdb_file = convert_cif_to_pdb(cif_file)\n",
        "\n",
        "    if pdb_file:\n",
        "        print(f\"변환된 PDB 파일: {pdb_file}\")\n",
        "        print(\"이제 이 PDB 파일을 LigandMPNN에서 사용할 수 있습니다.\")"
      ],
      "metadata": {
        "id": "PhFyJemzCr1x"
      },
      "execution_count": null,
      "outputs": []
    },
    {
      "cell_type": "code",
      "source": [
        "!python run.py \\\n",
        "        --seed 111 \\\n",
        "        --pdb_path \"../5XH3.pdb\" \\\n",
        "        --redesigned_residues \"A57 A58 A59 A60 A130 A131 A132 A156 A179 A180 A208\" \\\n",
        "        --out_folder \"../results\" \\\n",
        "        --batch_size 3 \\\n",
        "        --number_of_batches 10"
      ],
      "metadata": {
        "id": "4T_RHyU4CIvk"
      },
      "execution_count": null,
      "outputs": []
    },
    {
      "cell_type": "markdown",
      "metadata": {
        "id": "s7LhNyQjZx0k"
      },
      "source": []
    },
    {
      "cell_type": "markdown",
      "metadata": {
        "id": "LtCtBZ0mECr1"
      },
      "source": [
        "If you use the [LigandMPNN](https://github.com/dauparas/LigandMPNN?tab=readme-ov-file#31---bias_aa_per_residue_multi) cite:\n",
        "[LigandMPNN(preprint)](https://www.biorxiv.org/content/10.1101/2023.12.22.573103v1)\n",
        "\n",
        "@article{dauparas2023atomic,\n",
        "  title={Atomic context-conditioned protein sequence design using LigandMPNN},\n",
        "  author={Dauparas, Justas and Lee, Gyu Rie and Pecoraro, Robert and An, Linna and Anishchenko, Ivan and Glasscock, Cameron and Baker, David},\n",
        "  journal={Biorxiv},\n",
        "  pages={2023--12},\n",
        "  year={2023},\n",
        "  publisher={Cold Spring Harbor Laboratory}\n",
        "}\n",
        "\n",
        "@article{dauparas2022robust,\n",
        "  title={Robust deep learning--based protein sequence design using ProteinMPNN},\n",
        "  author={Dauparas, Justas and Anishchenko, Ivan and Bennett, Nathaniel and Bai, Hua and Ragotte, Robert J and Milles, Lukas F and Wicky, Basile IM and Courbet, Alexis and de Haas, Rob J and Bethel, Neville and others},\n",
        "  journal={Science},\n",
        "  volume={378},\n",
        "  number={6615},  \n",
        "  pages={49--56},\n",
        "  year={2022},\n",
        "  publisher={American Association for the Advancement of Science}\n",
        "} *italicized text*\n"
      ]
    }
  ],
  "metadata": {
    "colab": {
      "provenance": [],
      "include_colab_link": true
    },
    "kernelspec": {
      "display_name": "Python 3",
      "name": "python3"
    },
    "language_info": {
      "name": "python"
    }
  },
  "nbformat": 4,
  "nbformat_minor": 0
}