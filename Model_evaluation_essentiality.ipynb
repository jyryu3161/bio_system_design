{
  "nbformat": 4,
  "nbformat_minor": 0,
  "metadata": {
    "colab": {
      "provenance": [],
      "authorship_tag": "ABX9TyOjdh2OET3tqYfqfek1Yq6C",
      "include_colab_link": true
    },
    "kernelspec": {
      "name": "python3",
      "display_name": "Python 3"
    },
    "language_info": {
      "name": "python"
    }
  },
  "cells": [
    {
      "cell_type": "markdown",
      "metadata": {
        "id": "view-in-github",
        "colab_type": "text"
      },
      "source": [
        "<a href=\"https://colab.research.google.com/github/jyryu3161/bio_system_design/blob/main/Model_evaluation_essentiality.ipynb\" target=\"_parent\"><img src=\"https://colab.research.google.com/assets/colab-badge.svg\" alt=\"Open In Colab\"/></a>"
      ]
    },
    {
      "cell_type": "code",
      "execution_count": 1,
      "metadata": {
        "colab": {
          "base_uri": "https://localhost:8080/"
        },
        "id": "LJEAQNhcV_cE",
        "outputId": "0e1c177f-ac39-4eed-8102-9df286901324"
      },
      "outputs": [
        {
          "output_type": "stream",
          "name": "stdout",
          "text": [
            "Collecting cobra\n",
            "  Downloading cobra-0.30.0-py2.py3-none-any.whl.metadata (9.3 kB)\n",
            "Collecting appdirs~=1.4 (from cobra)\n",
            "  Downloading appdirs-1.4.4-py2.py3-none-any.whl.metadata (9.0 kB)\n",
            "Collecting depinfo~=2.2 (from cobra)\n",
            "  Downloading depinfo-2.2.0-py3-none-any.whl.metadata (3.8 kB)\n",
            "Collecting diskcache~=5.0 (from cobra)\n",
            "  Downloading diskcache-5.6.3-py3-none-any.whl.metadata (20 kB)\n",
            "Requirement already satisfied: future in /usr/local/lib/python3.12/dist-packages (from cobra) (1.0.0)\n",
            "Requirement already satisfied: httpx~=0.24 in /usr/local/lib/python3.12/dist-packages (from cobra) (0.28.1)\n",
            "Requirement already satisfied: numpy>=1.13 in /usr/local/lib/python3.12/dist-packages (from cobra) (2.0.2)\n",
            "Collecting optlang~=1.8 (from cobra)\n",
            "  Downloading optlang-1.8.3-py2.py3-none-any.whl.metadata (8.2 kB)\n",
            "Requirement already satisfied: pandas<3.0,>=1.0 in /usr/local/lib/python3.12/dist-packages (from cobra) (2.2.2)\n",
            "Requirement already satisfied: pydantic>=1.6 in /usr/local/lib/python3.12/dist-packages (from cobra) (2.11.10)\n",
            "Collecting python-libsbml~=5.19 (from cobra)\n",
            "  Downloading python_libsbml-5.20.5-cp312-cp312-manylinux_2_17_x86_64.manylinux2014_x86_64.whl.metadata (666 bytes)\n",
            "Requirement already satisfied: rich>=8.0 in /usr/local/lib/python3.12/dist-packages (from cobra) (13.9.4)\n",
            "Collecting ruamel.yaml~=0.16 (from cobra)\n",
            "  Downloading ruamel.yaml-0.18.16-py3-none-any.whl.metadata (25 kB)\n",
            "Collecting swiglpk (from cobra)\n",
            "  Downloading swiglpk-5.0.12-cp312-cp312-manylinux_2_17_x86_64.manylinux2014_x86_64.whl.metadata (5.5 kB)\n",
            "Requirement already satisfied: anyio in /usr/local/lib/python3.12/dist-packages (from httpx~=0.24->cobra) (4.11.0)\n",
            "Requirement already satisfied: certifi in /usr/local/lib/python3.12/dist-packages (from httpx~=0.24->cobra) (2025.10.5)\n",
            "Requirement already satisfied: httpcore==1.* in /usr/local/lib/python3.12/dist-packages (from httpx~=0.24->cobra) (1.0.9)\n",
            "Requirement already satisfied: idna in /usr/local/lib/python3.12/dist-packages (from httpx~=0.24->cobra) (3.11)\n",
            "Requirement already satisfied: h11>=0.16 in /usr/local/lib/python3.12/dist-packages (from httpcore==1.*->httpx~=0.24->cobra) (0.16.0)\n",
            "Requirement already satisfied: sympy>=1.12.0 in /usr/local/lib/python3.12/dist-packages (from optlang~=1.8->cobra) (1.13.3)\n",
            "Requirement already satisfied: python-dateutil>=2.8.2 in /usr/local/lib/python3.12/dist-packages (from pandas<3.0,>=1.0->cobra) (2.9.0.post0)\n",
            "Requirement already satisfied: pytz>=2020.1 in /usr/local/lib/python3.12/dist-packages (from pandas<3.0,>=1.0->cobra) (2025.2)\n",
            "Requirement already satisfied: tzdata>=2022.7 in /usr/local/lib/python3.12/dist-packages (from pandas<3.0,>=1.0->cobra) (2025.2)\n",
            "Requirement already satisfied: annotated-types>=0.6.0 in /usr/local/lib/python3.12/dist-packages (from pydantic>=1.6->cobra) (0.7.0)\n",
            "Requirement already satisfied: pydantic-core==2.33.2 in /usr/local/lib/python3.12/dist-packages (from pydantic>=1.6->cobra) (2.33.2)\n",
            "Requirement already satisfied: typing-extensions>=4.12.2 in /usr/local/lib/python3.12/dist-packages (from pydantic>=1.6->cobra) (4.15.0)\n",
            "Requirement already satisfied: typing-inspection>=0.4.0 in /usr/local/lib/python3.12/dist-packages (from pydantic>=1.6->cobra) (0.4.2)\n",
            "Requirement already satisfied: markdown-it-py>=2.2.0 in /usr/local/lib/python3.12/dist-packages (from rich>=8.0->cobra) (4.0.0)\n",
            "Requirement already satisfied: pygments<3.0.0,>=2.13.0 in /usr/local/lib/python3.12/dist-packages (from rich>=8.0->cobra) (2.19.2)\n",
            "Collecting ruamel.yaml.clib>=0.2.7 (from ruamel.yaml~=0.16->cobra)\n",
            "  Downloading ruamel.yaml.clib-0.2.14-cp312-cp312-manylinux_2_17_x86_64.manylinux2014_x86_64.whl.metadata (3.0 kB)\n",
            "Requirement already satisfied: mdurl~=0.1 in /usr/local/lib/python3.12/dist-packages (from markdown-it-py>=2.2.0->rich>=8.0->cobra) (0.1.2)\n",
            "Requirement already satisfied: six>=1.5 in /usr/local/lib/python3.12/dist-packages (from python-dateutil>=2.8.2->pandas<3.0,>=1.0->cobra) (1.17.0)\n",
            "Requirement already satisfied: mpmath<1.4,>=1.1.0 in /usr/local/lib/python3.12/dist-packages (from sympy>=1.12.0->optlang~=1.8->cobra) (1.3.0)\n",
            "Requirement already satisfied: sniffio>=1.1 in /usr/local/lib/python3.12/dist-packages (from anyio->httpx~=0.24->cobra) (1.3.1)\n",
            "Downloading cobra-0.30.0-py2.py3-none-any.whl (1.2 MB)\n",
            "\u001b[2K   \u001b[90m━━━━━━━━━━━━━━━━━━━━━━━━━━━━━━━━━━━━━━━━\u001b[0m \u001b[32m1.2/1.2 MB\u001b[0m \u001b[31m26.4 MB/s\u001b[0m eta \u001b[36m0:00:00\u001b[0m\n",
            "\u001b[?25hDownloading appdirs-1.4.4-py2.py3-none-any.whl (9.6 kB)\n",
            "Downloading depinfo-2.2.0-py3-none-any.whl (24 kB)\n",
            "Downloading diskcache-5.6.3-py3-none-any.whl (45 kB)\n",
            "\u001b[2K   \u001b[90m━━━━━━━━━━━━━━━━━━━━━━━━━━━━━━━━━━━━━━━━\u001b[0m \u001b[32m45.5/45.5 kB\u001b[0m \u001b[31m4.2 MB/s\u001b[0m eta \u001b[36m0:00:00\u001b[0m\n",
            "\u001b[?25hDownloading optlang-1.8.3-py2.py3-none-any.whl (141 kB)\n",
            "\u001b[2K   \u001b[90m━━━━━━━━━━━━━━━━━━━━━━━━━━━━━━━━━━━━━━━━\u001b[0m \u001b[32m141.8/141.8 kB\u001b[0m \u001b[31m12.2 MB/s\u001b[0m eta \u001b[36m0:00:00\u001b[0m\n",
            "\u001b[?25hDownloading python_libsbml-5.20.5-cp312-cp312-manylinux_2_17_x86_64.manylinux2014_x86_64.whl (8.2 MB)\n",
            "\u001b[2K   \u001b[90m━━━━━━━━━━━━━━━━━━━━━━━━━━━━━━━━━━━━━━━━\u001b[0m \u001b[32m8.2/8.2 MB\u001b[0m \u001b[31m60.2 MB/s\u001b[0m eta \u001b[36m0:00:00\u001b[0m\n",
            "\u001b[?25hDownloading ruamel.yaml-0.18.16-py3-none-any.whl (119 kB)\n",
            "\u001b[2K   \u001b[90m━━━━━━━━━━━━━━━━━━━━━━━━━━━━━━━━━━━━━━━━\u001b[0m \u001b[32m119.9/119.9 kB\u001b[0m \u001b[31m10.7 MB/s\u001b[0m eta \u001b[36m0:00:00\u001b[0m\n",
            "\u001b[?25hDownloading swiglpk-5.0.12-cp312-cp312-manylinux_2_17_x86_64.manylinux2014_x86_64.whl (2.3 MB)\n",
            "\u001b[2K   \u001b[90m━━━━━━━━━━━━━━━━━━━━━━━━━━━━━━━━━━━━━━━━\u001b[0m \u001b[32m2.3/2.3 MB\u001b[0m \u001b[31m60.2 MB/s\u001b[0m eta \u001b[36m0:00:00\u001b[0m\n",
            "\u001b[?25hDownloading ruamel.yaml.clib-0.2.14-cp312-cp312-manylinux_2_17_x86_64.manylinux2014_x86_64.whl (753 kB)\n",
            "\u001b[2K   \u001b[90m━━━━━━━━━━━━━━━━━━━━━━━━━━━━━━━━━━━━━━━━\u001b[0m \u001b[32m753.1/753.1 kB\u001b[0m \u001b[31m52.1 MB/s\u001b[0m eta \u001b[36m0:00:00\u001b[0m\n",
            "\u001b[?25hInstalling collected packages: swiglpk, python-libsbml, appdirs, ruamel.yaml.clib, diskcache, depinfo, ruamel.yaml, optlang, cobra\n",
            "Successfully installed appdirs-1.4.4 cobra-0.30.0 depinfo-2.2.0 diskcache-5.6.3 optlang-1.8.3 python-libsbml-5.20.5 ruamel.yaml-0.18.16 ruamel.yaml.clib-0.2.14 swiglpk-5.0.12\n"
          ]
        }
      ],
      "source": [
        "!pip install cobra"
      ]
    },
    {
      "cell_type": "code",
      "source": [
        "!git clone https://github.com/jyryu3161/bio_system_design.git"
      ],
      "metadata": {
        "colab": {
          "base_uri": "https://localhost:8080/"
        },
        "id": "mf_zEq55XLRo",
        "outputId": "420e882c-f7d3-4241-83bd-ab5b2fb739de"
      },
      "execution_count": 4,
      "outputs": [
        {
          "output_type": "stream",
          "name": "stdout",
          "text": [
            "Cloning into 'bio_system_design'...\n",
            "remote: Enumerating objects: 46, done.\u001b[K\n",
            "remote: Counting objects: 100% (46/46), done.\u001b[K\n",
            "remote: Compressing objects: 100% (44/44), done.\u001b[K\n",
            "remote: Total 46 (delta 16), reused 0 (delta 0), pack-reused 0 (from 0)\u001b[K\n",
            "Receiving objects: 100% (46/46), 1.03 MiB | 3.82 MiB/s, done.\n",
            "Resolving deltas: 100% (16/16), done.\n"
          ]
        }
      ]
    },
    {
      "cell_type": "code",
      "source": [
        "import cobra\n",
        "from cobra.io import load_model\n",
        "\n",
        "model = load_model(\"iML1515\")"
      ],
      "metadata": {
        "colab": {
          "base_uri": "https://localhost:8080/"
        },
        "id": "hZVlF-5pW68A",
        "outputId": "27661f55-4686-40ad-c169-cae2ca752f71"
      },
      "execution_count": 3,
      "outputs": [
        {
          "output_type": "stream",
          "name": "stdout",
          "text": [
            "2712\n"
          ]
        }
      ]
    },
    {
      "cell_type": "code",
      "source": [
        "print(len(model.reactions))\n"
      ],
      "metadata": {
        "id": "xQW8KvJlXFK6"
      },
      "execution_count": null,
      "outputs": []
    },
    {
      "cell_type": "code",
      "source": [
        "from cobra.io import load_model\n",
        "from cobra.flux_analysis.moma import moma\n",
        "import tqdm\n",
        "\n",
        "def evaluate_essentiality_prediction(exp_data, pred_data, common_genes):\n",
        "    # Confusion matrix 요소 계산\n",
        "    TP = 0  # True Positive: 실제 essential, 예측 essential\n",
        "    TN = 0  # True Negative: 실제 non-essential, 예측 non-essential\n",
        "    FP = 0  # False Positive: 실제 non-essential, 예측 essential\n",
        "    FN = 0  # False Negative: 실제 essential, 예측 non-essential\n",
        "\n",
        "    for gene in common_genes:\n",
        "        exp_essential = exp_data[gene]\n",
        "        pred_essential = pred_data[gene]\n",
        "\n",
        "        if exp_essential == 1 and pred_essential == 1:\n",
        "            TP += 1\n",
        "        elif exp_essential == 0 and pred_essential == 0:\n",
        "            TN += 1\n",
        "        elif exp_essential == 0 and pred_essential == 1:\n",
        "            FP += 1\n",
        "        elif exp_essential == 1 and pred_essential == 0:\n",
        "            FN += 1\n",
        "\n",
        "    # 성능 지표 계산\n",
        "    total = TP + TN + FP + FN\n",
        "\n",
        "    # Accuracy: (TP + TN) / Total\n",
        "    accuracy = (TP + TN) / total if total > 0 else 0\n",
        "\n",
        "    # Sensitivity (Recall, True Positive Rate): TP / (TP + FN)\n",
        "    sensitivity = TP / (TP + FN) if (TP + FN) > 0 else 0\n",
        "\n",
        "    # Specificity (True Negative Rate): TN / (TN + FP)\n",
        "    specificity = TN / (TN + FP) if (TN + FP) > 0 else 0\n",
        "\n",
        "    # Precision: TP / (TP + FP)\n",
        "    precision = TP / (TP + FP) if (TP + FP) > 0 else 0\n",
        "\n",
        "    # F1 Score: 2 * (Precision * Recall) / (Precision + Recall)\n",
        "    f1_score = 2 * (precision * sensitivity) / (precision + sensitivity) if (precision + sensitivity) > 0 else 0\n",
        "\n",
        "    results = {\n",
        "        'TP': TP,\n",
        "        'TN': TN,\n",
        "        'FP': FP,\n",
        "        'FN': FN,\n",
        "        'Total': total,\n",
        "        'Accuracy': accuracy,\n",
        "        'Sensitivity': sensitivity,\n",
        "        'Specificity': specificity,\n",
        "        'Precision': precision,\n",
        "        'F1_Score': f1_score\n",
        "    }\n",
        "\n",
        "    return results\n",
        "\n",
        "exp_essentiality_info = {}\n",
        "with open('./bio_system_design/glc_ecoli_essentiality.txt') as fp:\n",
        "    fp.readline()\n",
        "    for line in fp:\n",
        "        sptlist = line.strip().split('\\t')\n",
        "        gene = sptlist[0].strip()\n",
        "        essentiality = int(sptlist[1].strip())\n",
        "        exp_essentiality_info[gene] = essentiality\n",
        "\n",
        "# 1) WT 모델과 WT FBA 해 구하기\n",
        "wt_solution = model.optimize()           # <- 참조 flux (Solution)\n",
        "print('WT Growth rate: ', wt_solution.fluxes['BIOMASS_Ec_iML1515_core_75p37M'])\n",
        "insilico_essentiality_info = {}\n",
        "\n",
        "# 2) KO 모델 만들기 & FBA 해 구하기\n",
        "for each_gene in tqdm.tqdm(exp_essentiality_info):\n",
        "    ko_model = model.copy()\n",
        "    try:\n",
        "        ko_model.genes.get_by_id(each_gene).knock_out()\n",
        "    except:\n",
        "        continue\n",
        "\n",
        "    mutant_solution = ko_model.optimize()\n",
        "    mutant_growth = mutant_solution.fluxes['BIOMASS_Ec_iML1515_core_75p37M']\n",
        "    print('Growth rate after %s knock-out : %s'%(each_gene, mutant_growth))\n",
        "\n",
        "    if mutant_growth < 0.5:\n",
        "        insilico_essentiality_info[each_gene] = 1\n",
        "    else:\n",
        "        insilico_essentiality_info[each_gene] = 0\n",
        "\n",
        "    if len(insilico_essentiality_info) == 10:\n",
        "        break\n",
        "\n",
        "# 실험 결과와 시뮬레이션 결과 모두 존재하는 유전자 선별\n",
        "common_genes = list(set(set(exp_essentiality_info.keys()) & set(insilico_essentiality_info.keys())))\n",
        "\n",
        "performance = evaluate_essentiality_prediction(\n",
        "    exp_essentiality_info,\n",
        "    insilico_essentiality_info,\n",
        "    common_genes\n",
        ")\n",
        "\n",
        "# 결과 출력\n",
        "print(\"\\n\" + \"=\"*60)\n",
        "print(\"Gene Essentiality Prediction Performance\")\n",
        "print(\"=\"*60)\n",
        "print(f\"Total genes evaluated: {performance['Total']}\")\n",
        "print(f\"\\nConfusion Matrix:\")\n",
        "print(f\"  True Positive (TP):  {performance['TP']}\")\n",
        "print(f\"  True Negative (TN):  {performance['TN']}\")\n",
        "print(f\"  False Positive (FP): {performance['FP']}\")\n",
        "print(f\"  False Negative (FN): {performance['FN']}\")\n",
        "\n",
        "print(f\"\\nPerformance Metrics:\")\n",
        "print(f\"  Accuracy:    {performance['Accuracy']:.4f} ({performance['Accuracy']*100:.2f}%)\")\n",
        "print(f\"  Sensitivity: {performance['Sensitivity']:.4f} ({performance['Sensitivity']*100:.2f}%)\")\n",
        "print(f\"  Specificity: {performance['Specificity']:.4f} ({performance['Specificity']*100:.2f}%)\")\n",
        "print(f\"  Precision:   {performance['Precision']:.4f} ({performance['Precision']*100:.2f}%)\")\n",
        "print(f\"  F1 Score:    {performance['F1_Score']:.4f}\")\n",
        "print(\"=\"*60)\n"
      ],
      "metadata": {
        "colab": {
          "base_uri": "https://localhost:8080/"
        },
        "id": "lDRanJ9cXN3Y",
        "outputId": "bc27a6c9-f911-4309-c3b7-bef3e110ab2e"
      },
      "execution_count": 22,
      "outputs": [
        {
          "output_type": "stream",
          "name": "stdout",
          "text": [
            "WT Growth rate:  0.8769972144269834\n"
          ]
        },
        {
          "output_type": "stream",
          "name": "stderr",
          "text": [
            "  0%|          | 1/1354 [00:00<20:52,  1.08it/s]"
          ]
        },
        {
          "output_type": "stream",
          "name": "stdout",
          "text": [
            "Growth rate after b0002 knock-out : 0.8769972144269725\n"
          ]
        },
        {
          "output_type": "stream",
          "name": "stderr",
          "text": [
            "\r  0%|          | 2/1354 [00:01<18:41,  1.21it/s]"
          ]
        },
        {
          "output_type": "stream",
          "name": "stdout",
          "text": [
            "Growth rate after b0003 knock-out : 2.4091278452587314e-16\n"
          ]
        },
        {
          "output_type": "stream",
          "name": "stderr",
          "text": [
            "\r  0%|          | 3/1354 [00:03<27:14,  1.21s/it]"
          ]
        },
        {
          "output_type": "stream",
          "name": "stdout",
          "text": [
            "Growth rate after b0004 knock-out : 2.409938915422322e-16\n"
          ]
        },
        {
          "output_type": "stream",
          "name": "stderr",
          "text": [
            "\r  0%|          | 4/1354 [00:04<22:58,  1.02s/it]"
          ]
        },
        {
          "output_type": "stream",
          "name": "stdout",
          "text": [
            "Growth rate after b0007 knock-out : 0.8769972144269725\n"
          ]
        },
        {
          "output_type": "stream",
          "name": "stderr",
          "text": [
            "\r  0%|          | 5/1354 [00:04<20:44,  1.08it/s]"
          ]
        },
        {
          "output_type": "stream",
          "name": "stdout",
          "text": [
            "Growth rate after b0008 knock-out : 0.8769972144269725\n"
          ]
        },
        {
          "output_type": "stream",
          "name": "stderr",
          "text": [
            "\r  0%|          | 6/1354 [00:05<19:27,  1.15it/s]"
          ]
        },
        {
          "output_type": "stream",
          "name": "stdout",
          "text": [
            "Growth rate after b0009 knock-out : 0.8769972144269725\n"
          ]
        },
        {
          "output_type": "stream",
          "name": "stderr",
          "text": [
            "\r  1%|          | 7/1354 [00:06<19:23,  1.16it/s]"
          ]
        },
        {
          "output_type": "stream",
          "name": "stdout",
          "text": [
            "Growth rate after b0019 knock-out : 0.8769972144269725\n"
          ]
        },
        {
          "output_type": "stream",
          "name": "stderr",
          "text": [
            "\r  1%|          | 8/1354 [00:07<21:26,  1.05it/s]"
          ]
        },
        {
          "output_type": "stream",
          "name": "stdout",
          "text": [
            "Growth rate after b0025 knock-out : -7.949319822096583e-17\n"
          ]
        },
        {
          "output_type": "stream",
          "name": "stderr",
          "text": [
            "  1%|          | 10/1354 [00:10<30:11,  1.35s/it]"
          ]
        },
        {
          "output_type": "stream",
          "name": "stdout",
          "text": [
            "Growth rate after b0029 knock-out : 1.6896253882630634e-16\n"
          ]
        },
        {
          "output_type": "stream",
          "name": "stderr",
          "text": [
            "\r  1%|          | 10/1354 [00:11<25:54,  1.16s/it]"
          ]
        },
        {
          "output_type": "stream",
          "name": "stdout",
          "text": [
            "Growth rate after b0030 knock-out : 0.8769972144269725\n",
            "\n",
            "============================================================\n",
            "Gene Essentiality Prediction Performance\n",
            "============================================================\n",
            "Total genes evaluated: 10\n",
            "\n",
            "Confusion Matrix:\n",
            "  True Positive (TP):  4\n",
            "  True Negative (TN):  5\n",
            "  False Positive (FP): 0\n",
            "  False Negative (FN): 1\n",
            "\n",
            "Performance Metrics:\n",
            "  Accuracy:    0.9000 (90.00%)\n",
            "  Sensitivity: 0.8000 (80.00%)\n",
            "  Specificity: 1.0000 (100.00%)\n",
            "  Precision:   1.0000 (100.00%)\n",
            "  F1 Score:    0.8889\n",
            "============================================================\n"
          ]
        },
        {
          "output_type": "stream",
          "name": "stderr",
          "text": [
            "\n"
          ]
        }
      ]
    },
    {
      "cell_type": "code",
      "source": [],
      "metadata": {
        "id": "DugBciKXZBeI"
      },
      "execution_count": null,
      "outputs": []
    }
  ]
}